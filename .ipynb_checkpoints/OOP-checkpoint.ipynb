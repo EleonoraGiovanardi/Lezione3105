{
 "cells": [
  {
   "cell_type": "markdown",
   "metadata": {},
   "source": [
    "## programmazione ad oggetti -> permette di ridurre la complessità"
   ]
  },
  {
   "cell_type": "code",
   "execution_count": 34,
   "metadata": {},
   "outputs": [
    {
     "name": "stdout",
     "output_type": "stream",
     "text": [
      "verde\n",
      "('sto accellerando', 'suv')\n"
     ]
    }
   ],
   "source": [
    "class Auto(object):\n",
    "    def __init__(self, color, n_doors, tipo_auto):\n",
    "        self.color = color\n",
    "        self.n_doors = n_doors\n",
    "        self.tipo_auto = tipo_auto\n",
    "        \n",
    "    def metti_in_moto(self):\n",
    "        return \"metto in moto: brum, brum\",(self.tipo_auto)\n",
    "    \n",
    "    def accellera(self):\n",
    "        return \"sto accellerando\", (self.tipo_auto)\n",
    "    \n",
    "    if __name__ == \"__main__\":\n",
    "        auto_4 = Auto(\"verde\", 5, \"suv\")\n",
    "        print(auto_4.color)\n",
    "        print(auto_4.accellera())"
   ]
  },
  {
   "cell_type": "code",
   "execution_count": 27,
   "metadata": {},
   "outputs": [],
   "source": [
    "auto = Auto(\"rosso\", 5, \"crossover\")\n",
    "camion = Auto(\"giallo\", 2, \"camion\")"
   ]
  },
  {
   "cell_type": "code",
   "execution_count": 28,
   "metadata": {},
   "outputs": [],
   "source": [
    "camion.color=\"rosso\""
   ]
  },
  {
   "cell_type": "code",
   "execution_count": 29,
   "metadata": {},
   "outputs": [
    {
     "data": {
      "text/plain": [
       "('metto in moto: brum, brum', 'crossover')"
      ]
     },
     "execution_count": 29,
     "metadata": {},
     "output_type": "execute_result"
    }
   ],
   "source": [
    "auto.metti_in_moto()"
   ]
  },
  {
   "cell_type": "code",
   "execution_count": 30,
   "metadata": {},
   "outputs": [
    {
     "data": {
      "text/plain": [
       "('sto accellerando', 'camion')"
      ]
     },
     "execution_count": 30,
     "metadata": {},
     "output_type": "execute_result"
    }
   ],
   "source": [
    "camion.accellera()"
   ]
  },
  {
   "cell_type": "code",
   "execution_count": 33,
   "metadata": {},
   "outputs": [
    {
     "ename": "IndentationError",
     "evalue": "expected an indented block (<ipython-input-33-0aa6a2aeab0c>, line 2)",
     "output_type": "error",
     "traceback": [
      "\u001b[1;36m  File \u001b[1;32m\"<ipython-input-33-0aa6a2aeab0c>\"\u001b[1;36m, line \u001b[1;32m2\u001b[0m\n\u001b[1;33m    auto_4 = Auto(\"verde\", 5, \"suv\")\u001b[0m\n\u001b[1;37m    ^\u001b[0m\n\u001b[1;31mIndentationError\u001b[0m\u001b[1;31m:\u001b[0m expected an indented block\n"
     ]
    }
   ],
   "source": [
    "        if __name__ == \"__main__\":\n",
    "        auto_4 = Auto(\"verde\", 5, \"suv\")\n",
    "        print(auto_4.color)\n",
    "        print(auto_4.accellera())"
   ]
  },
  {
   "cell_type": "code",
   "execution_count": null,
   "metadata": {},
   "outputs": [],
   "source": []
  }
 ],
 "metadata": {
  "kernelspec": {
   "display_name": "Python 3",
   "language": "python",
   "name": "python3"
  },
  "language_info": {
   "codemirror_mode": {
    "name": "ipython",
    "version": 3
   },
   "file_extension": ".py",
   "mimetype": "text/x-python",
   "name": "python",
   "nbconvert_exporter": "python",
   "pygments_lexer": "ipython3",
   "version": "3.8.5"
  }
 },
 "nbformat": 4,
 "nbformat_minor": 4
}
